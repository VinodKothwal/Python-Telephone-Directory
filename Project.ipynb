{
 "cells": [
  {
   "cell_type": "code",
   "execution_count": 56,
   "id": "d6481e49",
   "metadata": {},
   "outputs": [],
   "source": [
    "def add1(a,b,c):\n",
    "    c[a]=b\n",
    "    print(\"***************************Update************************************\")\n",
    "    print(c[a],b)\n",
    "    return sel1(input(\"Enter update,display or quit\"),c)"
   ]
  },
  {
   "cell_type": "code",
   "execution_count": 57,
   "id": "3a483686",
   "metadata": {},
   "outputs": [],
   "source": [
    "def display(c):\n",
    "    print(\"***************************display********************************************\")\n",
    "    {print(e,v) for e,v in c.items()}\n",
    "    return sel1(input(\"Enter update,display or quit\"),c)"
   ]
  },
  {
   "cell_type": "code",
   "execution_count": 58,
   "id": "4d62c5fb",
   "metadata": {},
   "outputs": [],
   "source": [
    "def search(a,c):\n",
    "    if a in c.keys():\n",
    "        print(\"**************************search********************************************\")\n",
    "        print(a,c[a])\n",
    "        return sel1(input(\"Enter update,display or quit\"),c)\n",
    "    elif int(a) in c.values():\n",
    "        print(\"**************************search********************************************\")\n",
    "        [print(f'Your Name is : {i}, and number is {c[i]}') for i in c.keys() if c[i]==int(a)]\n",
    "        return sel1(input(\"Enter update,display or quit\"),c)\n",
    "    else:\n",
    "        print(\"**************************search********************************************\")\n",
    "        print(\"Please Enter Valid Details\")\n",
    "        return display(a,c)"
   ]
  },
  {
   "cell_type": "code",
   "execution_count": 59,
   "id": "094b0dc1",
   "metadata": {},
   "outputs": [],
   "source": [
    "def quit1():\n",
    "    return \"Thank You\""
   ]
  },
  {
   "cell_type": "code",
   "execution_count": 60,
   "id": "76dd9d5d",
   "metadata": {},
   "outputs": [],
   "source": [
    "def sel1(a,c):\n",
    "    if a==\"update\":\n",
    "        d=input(\"Enter Name\")\n",
    "        b=int(input(\"Please Enter number\"))\n",
    "        return add1(d,b,c)\n",
    "    elif a==\"search\":\n",
    "        b=input(\"Please Enter number\")\n",
    "        return search(b,c)\n",
    "    elif a==\"display\":\n",
    "        return display(c)\n",
    "    elif a==\"quit\":\n",
    "        return quit1()\n",
    "    else:\n",
    "        print(\"Enter Valid Key\")\n",
    "        g=input(\"Please Enter number\")\n",
    "        return sel1(g,c)"
   ]
  },
  {
   "cell_type": "code",
   "execution_count": 61,
   "id": "78b5cf55",
   "metadata": {},
   "outputs": [],
   "source": [
    "def funct1(record,f):\n",
    "    if record in f.values():\n",
    "        key1=[]\n",
    "        [key1.append(i) for i in f.keys() if f[i]==record]\n",
    "        print(f'Your Name is {key1[0]} and Your Number is {f[key1[0]]}')\n",
    "        print(end=\"/n\")\n",
    "        print(\"Do you want to update the phone number\")\n",
    "        print(\"If yes,please click on 'update', or you want to search another record 'display',you want to exit press 'quit'\")\n",
    "        option=input(\"Enter update,display,search or quit\")\n",
    "        return sel1(option,f)\n",
    "    else:\n",
    "        print(\"Sorry record is not listed,do you want to add a record\")\n",
    "        a=input(\"Please Enter your name\")\n",
    "        b=int(input(\"Enter Number\"))\n",
    "        f[a]=b\n",
    "        print(\"If yes,please click on 'update', or you want to search another record 'display',you want to exit press 'quit'\")\n",
    "        option=input(\"Enter update,display or quit\")\n",
    "        return sel1(option,f)\n",
    "    \n",
    "    \n"
   ]
  },
  {
   "cell_type": "code",
   "execution_count": 62,
   "id": "686a92c1",
   "metadata": {},
   "outputs": [],
   "source": [
    "dict2={'Vinod':6301991414, 'Ramesh':9458659965, 'Krishna':84984956}"
   ]
  },
  {
   "cell_type": "code",
   "execution_count": null,
   "id": "8495c6df",
   "metadata": {},
   "outputs": [
    {
     "name": "stdout",
     "output_type": "stream",
     "text": [
      "Enter Mobile Number6301991414\n",
      "Your Name is Vinod and Your Number is 6301991414\n",
      "/nDo you want to update the phone number\n",
      "If yes,please click on 'update', or you want to search another record 'display',you want to exit press 'quit'\n",
      "Enter update,display,search or quitdisplay\n",
      "***************************display********************************************\n",
      "Vinod 6301991414\n",
      "Ramesh 9458659965\n",
      "Krishna 84984956\n",
      "Enter update,display or quitsearch\n",
      "Please Enter number6301991414\n",
      "**************************search********************************************\n",
      "Your Name is : Vinod, and number is 6301991414\n",
      "Enter update,display or quitsearch\n"
     ]
    }
   ],
   "source": [
    "funct1(int(input(\"Enter Mobile Number\")),dict2)"
   ]
  }
 ],
 "metadata": {
  "kernelspec": {
   "display_name": "Python 3 (ipykernel)",
   "language": "python",
   "name": "python3"
  },
  "language_info": {
   "codemirror_mode": {
    "name": "ipython",
    "version": 3
   },
   "file_extension": ".py",
   "mimetype": "text/x-python",
   "name": "python",
   "nbconvert_exporter": "python",
   "pygments_lexer": "ipython3",
   "version": "3.9.13"
  }
 },
 "nbformat": 4,
 "nbformat_minor": 5
}
