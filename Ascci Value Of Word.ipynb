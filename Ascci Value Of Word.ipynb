{
 "cells": [
  {
   "cell_type": "code",
   "execution_count": 1,
   "id": "b0b68cab",
   "metadata": {},
   "outputs": [],
   "source": [
    "# Program to calculate ascii value of a word.\n",
    "# Eg:As we know a=1,b=2.Similarly aa=27(26*1+1),aaa=((26**2)*1)+(1*26)+1\n",
    "# Find the value of your name.Using below code we can find."
   ]
  },
  {
   "cell_type": "code",
   "execution_count": 2,
   "id": "59879bb9",
   "metadata": {},
   "outputs": [],
   "source": [
    "def wordvalue(a):\n",
    "    b=a.upper()\n",
    "    value=0\n",
    "    for i in range(len(b)):\n",
    "        value+=(ord(b[i])-64)*(26**(len(b)-1-i))\n",
    "    return value"
   ]
  },
  {
   "cell_type": "code",
   "execution_count": 3,
   "id": "129d1984",
   "metadata": {},
   "outputs": [],
   "source": [
    "str1=\"Ram\""
   ]
  },
  {
   "cell_type": "code",
   "execution_count": 4,
   "id": "4bc10793",
   "metadata": {},
   "outputs": [
    {
     "data": {
      "text/plain": [
       "12207"
      ]
     },
     "execution_count": 4,
     "metadata": {},
     "output_type": "execute_result"
    }
   ],
   "source": [
    "wordvalue(str1)"
   ]
  },
  {
   "cell_type": "code",
   "execution_count": null,
   "id": "2c6d2088",
   "metadata": {},
   "outputs": [],
   "source": []
  }
 ],
 "metadata": {
  "kernelspec": {
   "display_name": "Python 3 (ipykernel)",
   "language": "python",
   "name": "python3"
  },
  "language_info": {
   "codemirror_mode": {
    "name": "ipython",
    "version": 3
   },
   "file_extension": ".py",
   "mimetype": "text/x-python",
   "name": "python",
   "nbconvert_exporter": "python",
   "pygments_lexer": "ipython3",
   "version": "3.9.13"
  }
 },
 "nbformat": 4,
 "nbformat_minor": 5
}
